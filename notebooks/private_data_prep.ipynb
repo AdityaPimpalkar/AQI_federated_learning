{
 "cells": [
  {
   "cell_type": "code",
   "execution_count": 88,
   "id": "7e4ef491",
   "metadata": {},
   "outputs": [],
   "source": [
    "import pandas as pd"
   ]
  },
  {
   "cell_type": "code",
   "execution_count": 89,
   "id": "1c698785",
   "metadata": {},
   "outputs": [],
   "source": [
    "s1 = pd.read_csv(\"../data/s1_with_null.csv\")\n",
    "s2 = pd.read_csv(\"../data/s2_with_null.csv\")\n",
    "s1_predictions = pd.read_csv(\"../data/s1_predictions.csv\")\n",
    "s2_predictions = pd.read_csv(\"../data/s2_predictions.csv\")"
   ]
  },
  {
   "cell_type": "code",
   "execution_count": 90,
   "id": "cc474239",
   "metadata": {},
   "outputs": [],
   "source": [
    "s1 = s1.drop([\"Unnamed: 0\"], axis=1)\n",
    "s2 = s2.drop([\"Unnamed: 0\"], axis=1)\n",
    "s1_predictions = s1_predictions.drop([\"Unnamed: 0\"], axis=1)\n",
    "s2_predictions = s2_predictions.drop([\"Unnamed: 0\"], axis=1)\n",
    "s1 = s1.rename(columns={'pm10(ug/m3)': 'pm10', 'pm2.5(ug/m3)': 'pm2.5'})\n",
    "s2 = s2.rename(columns={'pm10(ug/m3)': 'pm10', 'pm2.5(ug/m3)': 'pm2.5'})"
   ]
  },
  {
   "cell_type": "code",
   "execution_count": 91,
   "id": "3f689212",
   "metadata": {},
   "outputs": [],
   "source": [
    "s1['datetime'] = pd.to_datetime(s1['datetime'])\n",
    "s2['datetime'] = pd.to_datetime(s2['datetime'])\n",
    "s1_predictions['datetime'] = pd.to_datetime(s1_predictions['datetime'])\n",
    "s2_predictions['datetime'] = pd.to_datetime(s2_predictions['datetime'])"
   ]
  },
  {
   "cell_type": "code",
   "execution_count": 92,
   "id": "b9ba344b",
   "metadata": {},
   "outputs": [],
   "source": [
    "s1[\"pm2.5\"] = s1[\"pm2.5\"].fillna(s1_predictions[\"pm2.5\"].mean())\n",
    "s1[\"pm10\"] = s1[\"pm10\"].fillna(s1[\"pm10\"].mean())"
   ]
  },
  {
   "cell_type": "code",
   "execution_count": 93,
   "id": "9828c31d",
   "metadata": {},
   "outputs": [],
   "source": [
    "s2[\"pm2.5\"] = s2[\"pm2.5\"].fillna(s2_predictions[\"pm2.5\"].mean())\n",
    "s2[\"pm10\"] = s2[\"pm10\"].fillna(s2[\"pm10\"].mean())"
   ]
  },
  {
   "cell_type": "code",
   "execution_count": 94,
   "id": "adba1f11",
   "metadata": {},
   "outputs": [
    {
     "data": {
      "text/html": [
       "<div>\n",
       "<style scoped>\n",
       "    .dataframe tbody tr th:only-of-type {\n",
       "        vertical-align: middle;\n",
       "    }\n",
       "\n",
       "    .dataframe tbody tr th {\n",
       "        vertical-align: top;\n",
       "    }\n",
       "\n",
       "    .dataframe thead th {\n",
       "        text-align: right;\n",
       "    }\n",
       "</style>\n",
       "<table border=\"1\" class=\"dataframe\">\n",
       "  <thead>\n",
       "    <tr style=\"text-align: right;\">\n",
       "      <th></th>\n",
       "      <th>datetime</th>\n",
       "      <th>pm2.5</th>\n",
       "      <th>pm10</th>\n",
       "    </tr>\n",
       "  </thead>\n",
       "  <tbody>\n",
       "    <tr>\n",
       "      <th>0</th>\n",
       "      <td>2021-10-01 00:00:00</td>\n",
       "      <td>1.76</td>\n",
       "      <td>2.83</td>\n",
       "    </tr>\n",
       "    <tr>\n",
       "      <th>1</th>\n",
       "      <td>2021-10-01 01:00:00</td>\n",
       "      <td>1.41</td>\n",
       "      <td>2.34</td>\n",
       "    </tr>\n",
       "    <tr>\n",
       "      <th>2</th>\n",
       "      <td>2021-10-01 02:00:00</td>\n",
       "      <td>1.14</td>\n",
       "      <td>2.00</td>\n",
       "    </tr>\n",
       "    <tr>\n",
       "      <th>3</th>\n",
       "      <td>2021-10-01 03:00:00</td>\n",
       "      <td>0.79</td>\n",
       "      <td>1.52</td>\n",
       "    </tr>\n",
       "    <tr>\n",
       "      <th>4</th>\n",
       "      <td>2021-10-01 04:00:00</td>\n",
       "      <td>0.20</td>\n",
       "      <td>0.67</td>\n",
       "    </tr>\n",
       "    <tr>\n",
       "      <th>...</th>\n",
       "      <td>...</td>\n",
       "      <td>...</td>\n",
       "      <td>...</td>\n",
       "    </tr>\n",
       "    <tr>\n",
       "      <th>7290</th>\n",
       "      <td>2022-07-31 18:00:00</td>\n",
       "      <td>1.86</td>\n",
       "      <td>2.09</td>\n",
       "    </tr>\n",
       "    <tr>\n",
       "      <th>7291</th>\n",
       "      <td>2022-07-31 19:00:00</td>\n",
       "      <td>1.66</td>\n",
       "      <td>1.93</td>\n",
       "    </tr>\n",
       "    <tr>\n",
       "      <th>7292</th>\n",
       "      <td>2022-07-31 20:00:00</td>\n",
       "      <td>1.93</td>\n",
       "      <td>2.22</td>\n",
       "    </tr>\n",
       "    <tr>\n",
       "      <th>7293</th>\n",
       "      <td>2022-07-31 21:00:00</td>\n",
       "      <td>3.14</td>\n",
       "      <td>3.47</td>\n",
       "    </tr>\n",
       "    <tr>\n",
       "      <th>7294</th>\n",
       "      <td>2022-07-31 22:00:00</td>\n",
       "      <td>2.73</td>\n",
       "      <td>3.05</td>\n",
       "    </tr>\n",
       "  </tbody>\n",
       "</table>\n",
       "<p>7295 rows × 3 columns</p>\n",
       "</div>"
      ],
      "text/plain": [
       "                datetime  pm2.5  pm10\n",
       "0    2021-10-01 00:00:00   1.76  2.83\n",
       "1    2021-10-01 01:00:00   1.41  2.34\n",
       "2    2021-10-01 02:00:00   1.14  2.00\n",
       "3    2021-10-01 03:00:00   0.79  1.52\n",
       "4    2021-10-01 04:00:00   0.20  0.67\n",
       "...                  ...    ...   ...\n",
       "7290 2022-07-31 18:00:00   1.86  2.09\n",
       "7291 2022-07-31 19:00:00   1.66  1.93\n",
       "7292 2022-07-31 20:00:00   1.93  2.22\n",
       "7293 2022-07-31 21:00:00   3.14  3.47\n",
       "7294 2022-07-31 22:00:00   2.73  3.05\n",
       "\n",
       "[7295 rows x 3 columns]"
      ]
     },
     "execution_count": 94,
     "metadata": {},
     "output_type": "execute_result"
    }
   ],
   "source": [
    "s1"
   ]
  },
  {
   "cell_type": "code",
   "execution_count": 95,
   "id": "f1b22bf4",
   "metadata": {},
   "outputs": [
    {
     "data": {
      "text/html": [
       "<div>\n",
       "<style scoped>\n",
       "    .dataframe tbody tr th:only-of-type {\n",
       "        vertical-align: middle;\n",
       "    }\n",
       "\n",
       "    .dataframe tbody tr th {\n",
       "        vertical-align: top;\n",
       "    }\n",
       "\n",
       "    .dataframe thead th {\n",
       "        text-align: right;\n",
       "    }\n",
       "</style>\n",
       "<table border=\"1\" class=\"dataframe\">\n",
       "  <thead>\n",
       "    <tr style=\"text-align: right;\">\n",
       "      <th></th>\n",
       "      <th>datetime</th>\n",
       "      <th>pm2.5</th>\n",
       "      <th>pm10</th>\n",
       "    </tr>\n",
       "  </thead>\n",
       "  <tbody>\n",
       "    <tr>\n",
       "      <th>0</th>\n",
       "      <td>2021-10-01 00:00:00</td>\n",
       "      <td>1.890000</td>\n",
       "      <td>3.150000</td>\n",
       "    </tr>\n",
       "    <tr>\n",
       "      <th>1</th>\n",
       "      <td>2021-10-01 01:00:00</td>\n",
       "      <td>1.530000</td>\n",
       "      <td>2.610000</td>\n",
       "    </tr>\n",
       "    <tr>\n",
       "      <th>2</th>\n",
       "      <td>2021-10-01 02:00:00</td>\n",
       "      <td>1.150000</td>\n",
       "      <td>2.100000</td>\n",
       "    </tr>\n",
       "    <tr>\n",
       "      <th>3</th>\n",
       "      <td>2021-10-01 03:00:00</td>\n",
       "      <td>0.890000</td>\n",
       "      <td>1.800000</td>\n",
       "    </tr>\n",
       "    <tr>\n",
       "      <th>4</th>\n",
       "      <td>2021-10-01 04:00:00</td>\n",
       "      <td>0.240000</td>\n",
       "      <td>0.810000</td>\n",
       "    </tr>\n",
       "    <tr>\n",
       "      <th>...</th>\n",
       "      <td>...</td>\n",
       "      <td>...</td>\n",
       "      <td>...</td>\n",
       "    </tr>\n",
       "    <tr>\n",
       "      <th>6803</th>\n",
       "      <td>2022-07-11 11:00:00</td>\n",
       "      <td>3.813349</td>\n",
       "      <td>7.142989</td>\n",
       "    </tr>\n",
       "    <tr>\n",
       "      <th>6804</th>\n",
       "      <td>2022-07-11 12:00:00</td>\n",
       "      <td>3.813349</td>\n",
       "      <td>7.142989</td>\n",
       "    </tr>\n",
       "    <tr>\n",
       "      <th>6805</th>\n",
       "      <td>2022-07-11 13:00:00</td>\n",
       "      <td>3.813349</td>\n",
       "      <td>7.142989</td>\n",
       "    </tr>\n",
       "    <tr>\n",
       "      <th>6806</th>\n",
       "      <td>2022-07-11 14:00:00</td>\n",
       "      <td>3.813349</td>\n",
       "      <td>7.142989</td>\n",
       "    </tr>\n",
       "    <tr>\n",
       "      <th>6807</th>\n",
       "      <td>2022-07-11 15:00:00</td>\n",
       "      <td>1.150000</td>\n",
       "      <td>1.310000</td>\n",
       "    </tr>\n",
       "  </tbody>\n",
       "</table>\n",
       "<p>6808 rows × 3 columns</p>\n",
       "</div>"
      ],
      "text/plain": [
       "                datetime     pm2.5      pm10\n",
       "0    2021-10-01 00:00:00  1.890000  3.150000\n",
       "1    2021-10-01 01:00:00  1.530000  2.610000\n",
       "2    2021-10-01 02:00:00  1.150000  2.100000\n",
       "3    2021-10-01 03:00:00  0.890000  1.800000\n",
       "4    2021-10-01 04:00:00  0.240000  0.810000\n",
       "...                  ...       ...       ...\n",
       "6803 2022-07-11 11:00:00  3.813349  7.142989\n",
       "6804 2022-07-11 12:00:00  3.813349  7.142989\n",
       "6805 2022-07-11 13:00:00  3.813349  7.142989\n",
       "6806 2022-07-11 14:00:00  3.813349  7.142989\n",
       "6807 2022-07-11 15:00:00  1.150000  1.310000\n",
       "\n",
       "[6808 rows x 3 columns]"
      ]
     },
     "execution_count": 95,
     "metadata": {},
     "output_type": "execute_result"
    }
   ],
   "source": [
    "s2"
   ]
  },
  {
   "cell_type": "code",
   "execution_count": 96,
   "id": "f8a64597",
   "metadata": {},
   "outputs": [
    {
     "name": "stderr",
     "output_type": "stream",
     "text": [
      "/var/folders/6k/3vmlhmb52cx2vjf55_z_zgg00000gn/T/ipykernel_65201/3576901303.py:1: DtypeWarning: Columns (2,4,6,7,8,9,10) have mixed types. Specify dtype option on import or set low_memory=False.\n",
      "  raw_data = pd.read_csv('/Users/adityapimpalkar/Documents/AQI_new/AQI_federated_learning/data/meterology/hly175.csv')\n"
     ]
    }
   ],
   "source": [
    "raw_data = pd.read_csv('../data/meterology/hly175.csv')"
   ]
  },
  {
   "cell_type": "code",
   "execution_count": 97,
   "id": "61a0c35b",
   "metadata": {},
   "outputs": [
    {
     "name": "stderr",
     "output_type": "stream",
     "text": [
      "/var/folders/6k/3vmlhmb52cx2vjf55_z_zgg00000gn/T/ipykernel_65201/552309073.py:2: SettingWithCopyWarning: \n",
      "A value is trying to be set on a copy of a slice from a DataFrame.\n",
      "Try using .loc[row_indexer,col_indexer] = value instead\n",
      "\n",
      "See the caveats in the documentation: https://pandas.pydata.org/pandas-docs/stable/user_guide/indexing.html#returning-a-view-versus-a-copy\n",
      "  df['datetime'] = pd.to_datetime(df['date'])\n",
      "/var/folders/6k/3vmlhmb52cx2vjf55_z_zgg00000gn/T/ipykernel_65201/552309073.py:3: SettingWithCopyWarning: \n",
      "A value is trying to be set on a copy of a slice from a DataFrame.\n",
      "Try using .loc[row_indexer,col_indexer] = value instead\n",
      "\n",
      "See the caveats in the documentation: https://pandas.pydata.org/pandas-docs/stable/user_guide/indexing.html#returning-a-view-versus-a-copy\n",
      "  df['temp'] = pd.to_numeric(df['temp'], errors='coerce')\n",
      "/var/folders/6k/3vmlhmb52cx2vjf55_z_zgg00000gn/T/ipykernel_65201/552309073.py:4: SettingWithCopyWarning: \n",
      "A value is trying to be set on a copy of a slice from a DataFrame.\n",
      "Try using .loc[row_indexer,col_indexer] = value instead\n",
      "\n",
      "See the caveats in the documentation: https://pandas.pydata.org/pandas-docs/stable/user_guide/indexing.html#returning-a-view-versus-a-copy\n",
      "  df['wetb'] = pd.to_numeric(df['wetb'], errors='coerce')\n",
      "/var/folders/6k/3vmlhmb52cx2vjf55_z_zgg00000gn/T/ipykernel_65201/552309073.py:5: SettingWithCopyWarning: \n",
      "A value is trying to be set on a copy of a slice from a DataFrame.\n",
      "Try using .loc[row_indexer,col_indexer] = value instead\n",
      "\n",
      "See the caveats in the documentation: https://pandas.pydata.org/pandas-docs/stable/user_guide/indexing.html#returning-a-view-versus-a-copy\n",
      "  df['dewpt'] = pd.to_numeric(df['dewpt'], errors='coerce')\n",
      "/var/folders/6k/3vmlhmb52cx2vjf55_z_zgg00000gn/T/ipykernel_65201/552309073.py:6: SettingWithCopyWarning: \n",
      "A value is trying to be set on a copy of a slice from a DataFrame.\n",
      "Try using .loc[row_indexer,col_indexer] = value instead\n",
      "\n",
      "See the caveats in the documentation: https://pandas.pydata.org/pandas-docs/stable/user_guide/indexing.html#returning-a-view-versus-a-copy\n",
      "  df['vappr'] = pd.to_numeric(df['vappr'], errors='coerce')\n"
     ]
    }
   ],
   "source": [
    "df = raw_data[['date', 'temp', 'wetb', 'dewpt', 'vappr']]\n",
    "df['datetime'] = pd.to_datetime(df['date'])\n",
    "df['temp'] = pd.to_numeric(df['temp'], errors='coerce')\n",
    "df['wetb'] = pd.to_numeric(df['wetb'], errors='coerce')\n",
    "df['dewpt'] = pd.to_numeric(df['dewpt'], errors='coerce')\n",
    "df['vappr'] = pd.to_numeric(df['vappr'], errors='coerce')"
   ]
  },
  {
   "cell_type": "code",
   "execution_count": 98,
   "id": "021bd89e",
   "metadata": {},
   "outputs": [],
   "source": [
    "met_s1 = df[(df['datetime'] >= s1[\"datetime\"].min()) & (df['datetime'] <= s1[\"datetime\"].max())]"
   ]
  },
  {
   "cell_type": "code",
   "execution_count": 99,
   "id": "ef9c45f3",
   "metadata": {},
   "outputs": [],
   "source": [
    "final_s1 = pd.merge(met_s1[['datetime','temp', 'wetb', 'dewpt', 'vappr']], s1, how=\"left\")"
   ]
  },
  {
   "cell_type": "code",
   "execution_count": 100,
   "id": "cd3588bf",
   "metadata": {},
   "outputs": [],
   "source": [
    "met_s2 = df[(df['datetime'] >= s2[\"datetime\"].min()) & (df['datetime'] <= s2[\"datetime\"].max())]"
   ]
  },
  {
   "cell_type": "code",
   "execution_count": 101,
   "id": "340b5130",
   "metadata": {},
   "outputs": [],
   "source": [
    "final_s2 = pd.merge(met_s2[['datetime','temp', 'wetb', 'dewpt', 'vappr']], s2, how='left')"
   ]
  },
  {
   "cell_type": "code",
   "execution_count": 102,
   "id": "f3b1915d",
   "metadata": {},
   "outputs": [],
   "source": [
    "final_s1.to_csv('../data/final_s1.csv')"
   ]
  },
  {
   "cell_type": "code",
   "execution_count": 103,
   "id": "e969d606",
   "metadata": {},
   "outputs": [],
   "source": [
    "final_s2.to_csv('../data/final_s2.csv')"
   ]
  },
  {
   "cell_type": "code",
   "execution_count": null,
   "id": "d1e32ff8",
   "metadata": {},
   "outputs": [],
   "source": []
  }
 ],
 "metadata": {
  "kernelspec": {
   "display_name": "Python 3 (ipykernel)",
   "language": "python",
   "name": "python3"
  },
  "language_info": {
   "codemirror_mode": {
    "name": "ipython",
    "version": 3
   },
   "file_extension": ".py",
   "mimetype": "text/x-python",
   "name": "python",
   "nbconvert_exporter": "python",
   "pygments_lexer": "ipython3",
   "version": "3.9.2"
  }
 },
 "nbformat": 4,
 "nbformat_minor": 5
}
